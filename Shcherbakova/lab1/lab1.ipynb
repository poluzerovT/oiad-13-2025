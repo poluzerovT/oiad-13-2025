{
 "cells": [
  {
   "cell_type": "code",
   "execution_count": 1,
   "id": "c070f778",
   "metadata": {},
   "outputs": [],
   "source": [
    "import pandas as pd\n",
    "import numpy as np\n",
    "import matplotlib.pyplot as plt"
   ]
  },
  {
   "cell_type": "code",
   "execution_count": 2,
   "id": "6937ac54",
   "metadata": {},
   "outputs": [
    {
     "data": {
      "text/plain": [
       "'Time_on_Gaming'"
      ]
     },
     "execution_count": 2,
     "metadata": {},
     "output_type": "execute_result"
    }
   ],
   "source": [
    "N = 12\n",
    "cols = ['Daily_Usage_Hours', 'Sleep_Hours', 'Exercise_Hours', 'Screen_Time_Before_Bed', 'Time_on_Social_Media', 'Time_on_Gaming', 'Time_on_Education']\n",
    "COL = cols[N % 7]\n",
    "COL"
   ]
  },
  {
   "cell_type": "code",
   "execution_count": 3,
   "id": "46bc1411",
   "metadata": {},
   "outputs": [
    {
     "data": {
      "text/html": [
       "<div>\n",
       "<style scoped>\n",
       "    .dataframe tbody tr th:only-of-type {\n",
       "        vertical-align: middle;\n",
       "    }\n",
       "\n",
       "    .dataframe tbody tr th {\n",
       "        vertical-align: top;\n",
       "    }\n",
       "\n",
       "    .dataframe thead th {\n",
       "        text-align: right;\n",
       "    }\n",
       "</style>\n",
       "<table border=\"1\" class=\"dataframe\">\n",
       "  <thead>\n",
       "    <tr style=\"text-align: right;\">\n",
       "      <th></th>\n",
       "      <th>Time_on_Gaming</th>\n",
       "    </tr>\n",
       "  </thead>\n",
       "  <tbody>\n",
       "    <tr>\n",
       "      <th>0</th>\n",
       "      <td>1.7</td>\n",
       "    </tr>\n",
       "    <tr>\n",
       "      <th>1</th>\n",
       "      <td>4.0</td>\n",
       "    </tr>\n",
       "    <tr>\n",
       "      <th>2</th>\n",
       "      <td>1.5</td>\n",
       "    </tr>\n",
       "    <tr>\n",
       "      <th>3</th>\n",
       "      <td>1.6</td>\n",
       "    </tr>\n",
       "    <tr>\n",
       "      <th>4</th>\n",
       "      <td>0.9</td>\n",
       "    </tr>\n",
       "    <tr>\n",
       "      <th>...</th>\n",
       "      <td>...</td>\n",
       "    </tr>\n",
       "    <tr>\n",
       "      <th>2995</th>\n",
       "      <td>1.8</td>\n",
       "    </tr>\n",
       "    <tr>\n",
       "      <th>2996</th>\n",
       "      <td>0.0</td>\n",
       "    </tr>\n",
       "    <tr>\n",
       "      <th>2997</th>\n",
       "      <td>0.2</td>\n",
       "    </tr>\n",
       "    <tr>\n",
       "      <th>2998</th>\n",
       "      <td>2.6</td>\n",
       "    </tr>\n",
       "    <tr>\n",
       "      <th>2999</th>\n",
       "      <td>2.3</td>\n",
       "    </tr>\n",
       "  </tbody>\n",
       "</table>\n",
       "<p>3000 rows × 1 columns</p>\n",
       "</div>"
      ],
      "text/plain": [
       "      Time_on_Gaming\n",
       "0                1.7\n",
       "1                4.0\n",
       "2                1.5\n",
       "3                1.6\n",
       "4                0.9\n",
       "...              ...\n",
       "2995             1.8\n",
       "2996             0.0\n",
       "2997             0.2\n",
       "2998             2.6\n",
       "2999             2.3\n",
       "\n",
       "[3000 rows x 1 columns]"
      ]
     },
     "execution_count": 3,
     "metadata": {},
     "output_type": "execute_result"
    }
   ],
   "source": [
    "df = pd.read_csv(\"../../datasets/teen_phone_addiction_dataset.csv\", usecols=[COL])\n",
    "s = pd.to_numeric(df[COL], errors=\"coerce\").dropna()\n",
    "df"
   ]
  },
  {
   "cell_type": "code",
   "execution_count": 4,
   "id": "a51b2b0c",
   "metadata": {},
   "outputs": [
    {
     "data": {
      "text/plain": [
       "0       1.7\n",
       "1       4.0\n",
       "2       1.5\n",
       "3       1.6\n",
       "4       0.9\n",
       "       ... \n",
       "2995    1.8\n",
       "2996    0.0\n",
       "2997    0.2\n",
       "2998    2.6\n",
       "2999    2.3\n",
       "Name: Time_on_Gaming, Length: 3000, dtype: float64"
      ]
     },
     "execution_count": 4,
     "metadata": {},
     "output_type": "execute_result"
    }
   ],
   "source": [
    "s"
   ]
  },
  {
   "cell_type": "code",
   "execution_count": 5,
   "id": "3835aabe",
   "metadata": {},
   "outputs": [
    {
     "name": "stdout",
     "output_type": "stream",
     "text": [
      "1.5252666666666597\n"
     ]
    }
   ],
   "source": [
    "###среднее значение###\n",
    "average = sum(s)/len(s)\n",
    "print(average)"
   ]
  },
  {
   "cell_type": "code",
   "execution_count": 6,
   "id": "97673aed",
   "metadata": {},
   "outputs": [
    {
     "name": "stdout",
     "output_type": "stream",
     "text": [
      "0.87\n"
     ]
    }
   ],
   "source": [
    "###дисперсия###\n",
    "a = np.array(s)\n",
    "result = np.var(a)\n",
    "print(round(result,3))"
   ]
  },
  {
   "cell_type": "code",
   "execution_count": 7,
   "id": "44ec39e5",
   "metadata": {},
   "outputs": [
    {
     "name": "stdout",
     "output_type": "stream",
     "text": [
      "0    0.0\n",
      "Name: Time_on_Gaming, dtype: float64\n"
     ]
    }
   ],
   "source": [
    "###мода###\n",
    "modes = s.mode(dropna=True)\n",
    "print(modes)"
   ]
  },
  {
   "cell_type": "code",
   "execution_count": 8,
   "id": "e806ab67",
   "metadata": {},
   "outputs": [
    {
     "name": "stdout",
     "output_type": "stream",
     "text": [
      "Time_on_Gaming\n",
      "0.0    205\n",
      "1.7    140\n",
      "1.6    131\n",
      "1.2    130\n",
      "1.0    122\n",
      "1.4    122\n",
      "1.5    120\n",
      "1.3    120\n",
      "1.8    110\n",
      "1.9    103\n",
      "2.1     95\n",
      "1.1     93\n",
      "2.3     92\n",
      "2.0     92\n",
      "0.9     90\n",
      "0.7     89\n",
      "2.2     88\n",
      "0.6     83\n",
      "0.8     82\n",
      "2.4     76\n",
      "2.5     75\n",
      "0.5     67\n",
      "2.6     65\n",
      "0.4     65\n",
      "0.3     62\n",
      "0.2     59\n",
      "2.7     54\n",
      "0.1     52\n",
      "2.9     50\n",
      "3.1     48\n",
      "2.8     42\n",
      "3.0     36\n",
      "3.2     29\n",
      "3.3     26\n",
      "4.0     25\n",
      "3.4     16\n",
      "3.6     15\n",
      "3.7     12\n",
      "3.5     10\n",
      "3.8      7\n",
      "3.9      2\n",
      "Name: count, dtype: int64\n"
     ]
    }
   ],
   "source": [
    "counts = df[COL].value_counts()          \n",
    "dups_counts = counts[counts > 1]           \n",
    "print(dups_counts)"
   ]
  },
  {
   "cell_type": "code",
   "execution_count": 9,
   "id": "00b504db",
   "metadata": {},
   "outputs": [
    {
     "name": "stdout",
     "output_type": "stream",
     "text": [
      "1.5\n"
     ]
    }
   ],
   "source": [
    "###медиана###\n",
    "med = np.median(s)\n",
    "print(med)"
   ]
  },
  {
   "cell_type": "code",
   "execution_count": 10,
   "id": "c74386ea",
   "metadata": {},
   "outputs": [
    {
     "name": "stdout",
     "output_type": "stream",
     "text": [
      "Квантили (0.25, 0.5, 0.75): [0.8 1.5 2.2]\n"
     ]
    }
   ],
   "source": [
    "###Квантили уровня 0.25, 0.5, 0.75###\n",
    "quantiles = np.quantile(s, [0.25, 0.5, 0.75])\n",
    "print(f\"Квантили (0.25, 0.5, 0.75): {quantiles}\")"
   ]
  },
  {
   "cell_type": "code",
   "execution_count": 11,
   "id": "04689809",
   "metadata": {},
   "outputs": [
    {
     "data": {
      "text/plain": [
       "Time_on_Gaming   -0.498206\n",
       "dtype: float64"
      ]
     },
     "execution_count": 11,
     "metadata": {},
     "output_type": "execute_result"
    }
   ],
   "source": [
    "###Эксцесс###\n",
    "df.kurtosis()"
   ]
  },
  {
   "cell_type": "code",
   "execution_count": 12,
   "id": "6d84cbc8",
   "metadata": {},
   "outputs": [
    {
     "name": "stdout",
     "output_type": "stream",
     "text": [
      "0.2590108181356894\n"
     ]
    }
   ],
   "source": [
    "###Ассиметрия###\n",
    "skew = s.skew()\n",
    "print(skew)"
   ]
  },
  {
   "cell_type": "code",
   "execution_count": 13,
   "id": "58a78bbd",
   "metadata": {},
   "outputs": [
    {
     "name": "stdout",
     "output_type": "stream",
     "text": [
      "1.4000000000000001\n"
     ]
    }
   ],
   "source": [
    "###Интерквартильный размах###\n",
    "q1 = s.quantile(0.25)\n",
    "q3 = s.quantile(0.75)\n",
    "iqr = q3 - q1\n",
    "print(iqr)"
   ]
  },
  {
   "cell_type": "code",
   "execution_count": null,
   "id": "31331f83",
   "metadata": {},
   "outputs": [
    {
     "data": {
      "image/png": "[encoded data removed]",
      "text/plain": [
       "<Figure size 640x480 with 1 Axes>"
      ]
     },
     "metadata": {},
     "output_type": "display_data"
    }
   ],
   "source": [
    "plt.figure()\n",
    "plt.hist(s, bins=100)        \n",
    "plt.xlabel(COL)\n",
    "plt.ylabel(\"Частота\")\n",
    "plt.title(\"Гистограмма\")\n",
    "plt.show()"
   ]
  },
  {
   "cell_type": "code",
   "execution_count": 15,
   "id": "c4933a70",
   "metadata": {},
   "outputs": [
    {
     "data": {
      "image/png": "[encoded data removed]",
      "text/plain": [
       "<Figure size 640x480 with 1 Axes>"
      ]
     },
     "metadata": {},
     "output_type": "display_data"
    }
   ],
   "source": [
    "x = np.sort(s.to_numpy())\n",
    "n = x.size\n",
    "y = np.arange(1, n + 1) / n       \n",
    "\n",
    "plt.figure()\n",
    "plt.step(x, y, where=\"post\")\n",
    "plt.xlabel(COL)\n",
    "plt.ylabel(\"F_n(x)\")\n",
    "plt.title(\"Эмпирическая функция распределения (ECDF)\")\n",
    "plt.ylim(0, 1)\n",
    "plt.show()"
   ]
  },
  {
   "cell_type": "code",
   "execution_count": 16,
   "id": "85df8fbb",
   "metadata": {},
   "outputs": [],
   "source": [
    "from math import erf, sqrt\n",
    "\n",
    "def norm_cdf(x, mu, sigma):\n",
    "    return 0.5 * (1 + erf((x - mu) / (sigma * sqrt(2))))\n",
    "\n",
    "def chi2_normality(series, bins=10):\n",
    "    n = len(series)\n",
    "    mu = series.mean()\n",
    "    sigma = series.std(ddof=0) \n",
    "    \n",
    "    binned = pd.cut(series, bins=bins, include_lowest=True)\n",
    "    observed = binned.value_counts().sort_index().values\n",
    "    \n",
    "    edges = binned.cat.categories\n",
    "    expected = []\n",
    "    \n",
    "    for interval in edges:\n",
    "        left = -np.inf if pd.isna(interval.left) else interval.left\n",
    "        right = np.inf if pd.isna(interval.right) else interval.right\n",
    "        \n",
    "        p_left = 0 if np.isinf(left) else norm_cdf(left, mu, sigma)\n",
    "        p_right = 1 if np.isinf(right) else norm_cdf(right, mu, sigma)\n",
    "        \n",
    "        prob = p_right - p_left\n",
    "        expected.append(n * prob)\n",
    "    \n",
    "    expected = np.array(expected)\n",
    "    observed = np.array(observed)\n",
    "\n",
    "    mask = expected > 0\n",
    "    observed = observed[mask]\n",
    "    expected = expected[mask]\n",
    "    \n",
    "    chi2 = ((observed - expected) ** 2 / expected).sum()\n",
    "    df = len(observed) - 1 - 2 \n",
    "    return chi2, df"
   ]
  },
  {
   "cell_type": "code",
   "execution_count": 17,
   "id": "5b92523e",
   "metadata": {},
   "outputs": [
    {
     "name": "stdout",
     "output_type": "stream",
     "text": [
      "Хи-квадрат: 362.81\n",
      "Степени свободы: 7\n"
     ]
    }
   ],
   "source": [
    "chi2, df = chi2_normality(s, bins=10)\n",
    "print(f\"Хи-квадрат: {chi2:.2f}\")\n",
    "print(f\"Степени свободы: {df}\")"
   ]
  },
  {
   "cell_type": "code",
   "execution_count": 18,
   "id": "e7ee6bfb",
   "metadata": {},
   "outputs": [
    {
     "data": {
      "text/html": [
       "<div>\n",
       "<style scoped>\n",
       "    .dataframe tbody tr th:only-of-type {\n",
       "        vertical-align: middle;\n",
       "    }\n",
       "\n",
       "    .dataframe tbody tr th {\n",
       "        vertical-align: top;\n",
       "    }\n",
       "\n",
       "    .dataframe thead th {\n",
       "        text-align: right;\n",
       "    }\n",
       "</style>\n",
       "<table border=\"1\" class=\"dataframe\">\n",
       "  <thead>\n",
       "    <tr style=\"text-align: right;\">\n",
       "      <th></th>\n",
       "      <th>skew</th>\n",
       "      <th>excess_kurtosis</th>\n",
       "      <th>p_skew</th>\n",
       "      <th>p_kurt</th>\n",
       "      <th>normal</th>\n",
       "    </tr>\n",
       "    <tr>\n",
       "      <th>column</th>\n",
       "      <th></th>\n",
       "      <th></th>\n",
       "      <th></th>\n",
       "      <th></th>\n",
       "      <th></th>\n",
       "    </tr>\n",
       "  </thead>\n",
       "  <tbody>\n",
       "    <tr>\n",
       "      <th>Time_on_Gaming</th>\n",
       "      <td>0.259011</td>\n",
       "      <td>-0.498206</td>\n",
       "      <td>6.969497e-09</td>\n",
       "      <td>2.545692e-08</td>\n",
       "      <td>False</td>\n",
       "    </tr>\n",
       "  </tbody>\n",
       "</table>\n",
       "</div>"
      ],
      "text/plain": [
       "                    skew  excess_kurtosis        p_skew        p_kurt  normal\n",
       "column                                                                       \n",
       "Time_on_Gaming  0.259011        -0.498206  6.969497e-09  2.545692e-08   False"
      ]
     },
     "execution_count": 18,
     "metadata": {},
     "output_type": "execute_result"
    }
   ],
   "source": [
    "import pandas as pd\n",
    "from math import sqrt, erfc, exp\n",
    "\n",
    "def normality_skew_kurtosis(df, alpha=0.05):\n",
    "    rows = []\n",
    "    for c in df.select_dtypes(include='number').columns:\n",
    "        x = df[c].dropna()\n",
    "        n = len(x)\n",
    "        s = x.skew()\n",
    "        k = x.kurt()\n",
    "        ps = erfc(abs(s * sqrt(n / 6)) / sqrt(2))\n",
    "        pk = erfc(abs(k * sqrt(n / 24)) / sqrt(2))\n",
    "        rows.append([c, s, k, ps, pk, ps > alpha and pk > alpha])\n",
    "    return pd.DataFrame(rows, columns=['column','skew','excess_kurtosis','p_skew','p_kurt','normal']).set_index('column')\n",
    "normality_skew_kurtosis(pd.DataFrame(s))"
   ]
  },
  {
   "cell_type": "code",
   "execution_count": 19,
   "id": "b6ce010e",
   "metadata": {},
   "outputs": [
    {
     "data": {
      "image/png": "[encoded data removed]",
      "text/plain": [
       "<Figure size 640x480 with 1 Axes>"
      ]
     },
     "metadata": {},
     "output_type": "display_data"
    }
   ],
   "source": [
    "import matplotlib.pyplot as plt\n",
    "from scipy import stats\n",
    "\n",
    "def qqplot(df):\n",
    "    for c in df.select_dtypes(include='number').columns:\n",
    "        plt.figure()\n",
    "        stats.probplot(df[c].dropna(), dist='norm', plot=plt)\n",
    "        plt.title(c)\n",
    "    plt.show()\n",
    "qqplot(pd.DataFrame(s))"
   ]
  },
  {
   "cell_type": "code",
   "execution_count": 20,
   "id": "dc867b3f",
   "metadata": {},
   "outputs": [
    {
     "data": {
      "image/png": "[encoded data removed]",
      "text/plain": [
       "<Figure size 1200x300 with 3 Axes>"
      ]
     },
     "metadata": {},
     "output_type": "display_data"
    }
   ],
   "source": [
    "import numpy as np\n",
    "import pandas as pd\n",
    "import matplotlib.pyplot as plt\n",
    "from scipy import stats\n",
    "\n",
    "def make_normal(df):\n",
    "    out = {}\n",
    "    for c in df.select_dtypes(include='number').columns:\n",
    "        x = df[c].dropna()\n",
    "        ql, qu = x.quantile(0.01), x.quantile(0.99)\n",
    "        x = x.clip(ql, qu)\n",
    "        if (x > 0).all():\n",
    "            y = np.log1p(x)\n",
    "        else:\n",
    "            y = pd.Series(stats.yeojohnson(x.to_numpy())[0], index=x.index)\n",
    "        z = (y - y.mean()) / y.std()\n",
    "        out[c] = z.reindex(df.index)\n",
    "    return pd.DataFrame(out, index=df.index)\n",
    "\n",
    "def plot_distributions(df):\n",
    "    df2 = make_normal(df)\n",
    "    for c in df.select_dtypes(include='number').columns:\n",
    "        x = df[c].dropna()\n",
    "        mu, sg = x.mean(), x.std()\n",
    "        xs = np.linspace(x.min(), x.max(), 200)\n",
    "        t = df2[c].dropna()\n",
    "        z = np.linspace(-4, 4, 400)\n",
    "        fig, ax = plt.subplots(1, 3, figsize=(12, 3))\n",
    "        ax[0].hist(x, bins='auto', density=True)\n",
    "        ax[0].plot(xs, stats.norm.pdf(xs, mu, sg))\n",
    "        ax[0].set_title(f'{c}: исходные')\n",
    "        ax[1].plot(z, stats.norm.pdf(z))\n",
    "        ax[1].set_title('N(0,1)')\n",
    "        ax[2].hist(t, bins='auto', density=True)\n",
    "        ax[2].plot(z, stats.norm.pdf(z))\n",
    "        ax[2].set_title(f'{c}: модифицированные')\n",
    "        plt.tight_layout()\n",
    "    plt.show()\n",
    "\n",
    "\n",
    "plot_distributions(pd.DataFrame(s))"
   ]
  },
  {
   "cell_type": "code",
   "execution_count": 21,
   "id": "ba5bfb64",
   "metadata": {},
   "outputs": [],
   "source": [
    "df = make_normal(pd.DataFrame(s))\n",
    "s = df.Time_on_Gaming"
   ]
  },
  {
   "cell_type": "code",
   "execution_count": null,
   "id": "8ea0e422",
   "metadata": {},
   "outputs": [
    {
     "name": "stdout",
     "output_type": "stream",
     "text": [
      "2.6249373045554116e-16\n",
      "1.0\n",
      "0   -1.813542\n",
      "Name: Time_on_Gaming, dtype: float64\n",
      "Time_on_Gaming\n",
      "-1.813542    205\n",
      " 0.257894    140\n",
      " 0.153929    131\n",
      "-0.278360    130\n",
      "-0.058743    122\n",
      "-0.505814    122\n",
      " 0.048412    120\n",
      "-0.167632    120\n",
      " 0.360386    110\n",
      " 0.461478    103\n",
      " 0.659723     95\n",
      "-0.391044     93\n",
      " 0.853099     92\n",
      " 0.561237     92\n",
      "-0.622817     90\n",
      "-0.864199     89\n",
      " 0.756993     88\n",
      "-0.988978     83\n",
      "-0.742216     82\n",
      " 0.948090     76\n",
      " 1.042011     75\n",
      "-1.116799     67\n",
      " 1.134904     65\n",
      "-1.247947     65\n",
      "-1.382755     62\n",
      "-1.521622     59\n",
      " 1.226809     54\n",
      "-1.665023     52\n",
      " 1.407798     50\n",
      " 1.585247     48\n",
      " 1.317762     42\n",
      " 1.496950     36\n",
      " 2.181631     34\n",
      " 1.672718     29\n",
      " 1.759391     26\n",
      " 1.845292     16\n",
      " 2.014870     15\n",
      " 2.098592     12\n",
      " 1.930444     10\n",
      "Name: count, dtype: int64\n",
      "0.048411818811610975\n",
      "Квантили (0.25, 0.5, 0.75): [-0.74221589  0.04841182  0.75699274]\n",
      "Time_on_Gaming   -0.680888\n",
      "dtype: float64\n",
      "-0.062251998792357766\n",
      "1.4992086225845989\n"
     ]
    },
    {
     "data": {
      "image/png": "[encoded data removed]",
      "text/plain": [
       "<Figure size 640x480 with 1 Axes>"
      ]
     },
     "metadata": {},
     "output_type": "display_data"
    },
    {
     "data": {
      "image/png": "[encoded data removed]",
      "text/plain": [
       "<Figure size 640x480 with 1 Axes>"
      ]
     },
     "metadata": {},
     "output_type": "display_data"
    }
   ],
   "source": [
    "###среднее значение###\n",
    "average = sum(s)/len(s)\n",
    "print(average)\n",
    "###дисперсия###\n",
    "a = np.array(s)\n",
    "result = np.var(a)\n",
    "print(round(result,3))\n",
    "###мода###\n",
    "modes = s.mode(dropna=True)\n",
    "print(modes)\n",
    "counts = df[COL].value_counts()          \n",
    "dups_counts = counts[counts > 1]           \n",
    "print(dups_counts)\n",
    "###медиана###\n",
    "med = np.median(s)\n",
    "print(med)\n",
    "###Квантили уровня 0.25, 0.5, 0.75###\n",
    "quantiles = np.quantile(s, [0.25, 0.5, 0.75])\n",
    "print(f\"Квантили (0.25, 0.5, 0.75): {quantiles}\")\n",
    "###Эксцесс###\n",
    "print(df.kurtosis())\n",
    "###Ассиметрия###\n",
    "skew = s.skew()\n",
    "print(skew)\n",
    "###Интерквартильный размах###\n",
    "q1 = s.quantile(0.25)\n",
    "q3 = s.quantile(0.75)\n",
    "iqr = q3 - q1\n",
    "print(iqr)\n",
    "plt.figure()\n",
    "plt.hist(s, bins=100)\n",
    "plt.xlabel(COL)\n",
    "plt.ylabel(\"Частота\")\n",
    "plt.title(\"Гистограмма\")\n",
    "plt.show()\n",
    "x = np.sort(s.to_numpy())\n",
    "n = x.size\n",
    "y = np.arange(1, n + 1) / n       \n",
    "\n",
    "plt.figure()\n",
    "plt.step(x, y, where=\"post\")\n",
    "plt.xlabel(COL)\n",
    "plt.ylabel(\"F_n(x)\")\n",
    "plt.title(\"Эмпирическая функция распределения (ECDF)\")\n",
    "plt.ylim(0, 1)\n",
    "plt.show()"
   ]
  },
  {
   "cell_type": "code",
   "execution_count": 25,
   "id": "8286c746",
   "metadata": {},
   "outputs": [
    {
     "data": {
      "text/html": [
       "<div>\n",
       "<style scoped>\n",
       "    .dataframe tbody tr th:only-of-type {\n",
       "        vertical-align: middle;\n",
       "    }\n",
       "\n",
       "    .dataframe tbody tr th {\n",
       "        vertical-align: top;\n",
       "    }\n",
       "\n",
       "    .dataframe thead th {\n",
       "        text-align: right;\n",
       "    }\n",
       "</style>\n",
       "<table border=\"1\" class=\"dataframe\">\n",
       "  <thead>\n",
       "    <tr style=\"text-align: right;\">\n",
       "      <th></th>\n",
       "      <th>School_Grade</th>\n",
       "      <th>Time_on_Gaming</th>\n",
       "    </tr>\n",
       "  </thead>\n",
       "  <tbody>\n",
       "    <tr>\n",
       "      <th>0</th>\n",
       "      <td>9th</td>\n",
       "      <td>1.7</td>\n",
       "    </tr>\n",
       "    <tr>\n",
       "      <th>1</th>\n",
       "      <td>7th</td>\n",
       "      <td>4.0</td>\n",
       "    </tr>\n",
       "    <tr>\n",
       "      <th>2</th>\n",
       "      <td>11th</td>\n",
       "      <td>1.5</td>\n",
       "    </tr>\n",
       "    <tr>\n",
       "      <th>3</th>\n",
       "      <td>12th</td>\n",
       "      <td>1.6</td>\n",
       "    </tr>\n",
       "    <tr>\n",
       "      <th>4</th>\n",
       "      <td>9th</td>\n",
       "      <td>0.9</td>\n",
       "    </tr>\n",
       "    <tr>\n",
       "      <th>...</th>\n",
       "      <td>...</td>\n",
       "      <td>...</td>\n",
       "    </tr>\n",
       "    <tr>\n",
       "      <th>2995</th>\n",
       "      <td>12th</td>\n",
       "      <td>1.8</td>\n",
       "    </tr>\n",
       "    <tr>\n",
       "      <th>2996</th>\n",
       "      <td>8th</td>\n",
       "      <td>0.0</td>\n",
       "    </tr>\n",
       "    <tr>\n",
       "      <th>2997</th>\n",
       "      <td>7th</td>\n",
       "      <td>0.2</td>\n",
       "    </tr>\n",
       "    <tr>\n",
       "      <th>2998</th>\n",
       "      <td>9th</td>\n",
       "      <td>2.6</td>\n",
       "    </tr>\n",
       "    <tr>\n",
       "      <th>2999</th>\n",
       "      <td>10th</td>\n",
       "      <td>2.3</td>\n",
       "    </tr>\n",
       "  </tbody>\n",
       "</table>\n",
       "<p>3000 rows × 2 columns</p>\n",
       "</div>"
      ],
      "text/plain": [
       "     School_Grade  Time_on_Gaming\n",
       "0             9th             1.7\n",
       "1             7th             4.0\n",
       "2            11th             1.5\n",
       "3            12th             1.6\n",
       "4             9th             0.9\n",
       "...           ...             ...\n",
       "2995         12th             1.8\n",
       "2996          8th             0.0\n",
       "2997          7th             0.2\n",
       "2998          9th             2.6\n",
       "2999         10th             2.3\n",
       "\n",
       "[3000 rows x 2 columns]"
      ]
     },
     "execution_count": 25,
     "metadata": {},
     "output_type": "execute_result"
    }
   ],
   "source": [
    "df = pd.read_csv(\"../../datasets/teen_phone_addiction_dataset.csv\")\n",
    "df = df[['School_Grade',COL]]\n",
    "df"
   ]
  },
  {
   "cell_type": "code",
   "execution_count": 26,
   "id": "7dca0954",
   "metadata": {},
   "outputs": [
    {
     "data": {
      "text/html": [
       "<div>\n",
       "<style scoped>\n",
       "    .dataframe tbody tr th:only-of-type {\n",
       "        vertical-align: middle;\n",
       "    }\n",
       "\n",
       "    .dataframe tbody tr th {\n",
       "        vertical-align: top;\n",
       "    }\n",
       "\n",
       "    .dataframe thead tr th {\n",
       "        text-align: left;\n",
       "    }\n",
       "\n",
       "    .dataframe thead tr:last-of-type th {\n",
       "        text-align: right;\n",
       "    }\n",
       "</style>\n",
       "<table border=\"1\" class=\"dataframe\">\n",
       "  <thead>\n",
       "    <tr>\n",
       "      <th></th>\n",
       "      <th colspan=\"8\" halign=\"left\">Time_on_Gaming</th>\n",
       "    </tr>\n",
       "    <tr>\n",
       "      <th></th>\n",
       "      <th>count</th>\n",
       "      <th>mean</th>\n",
       "      <th>std</th>\n",
       "      <th>min</th>\n",
       "      <th>25%</th>\n",
       "      <th>50%</th>\n",
       "      <th>75%</th>\n",
       "      <th>max</th>\n",
       "    </tr>\n",
       "    <tr>\n",
       "      <th>School_Grade</th>\n",
       "      <th></th>\n",
       "      <th></th>\n",
       "      <th></th>\n",
       "      <th></th>\n",
       "      <th></th>\n",
       "      <th></th>\n",
       "      <th></th>\n",
       "      <th></th>\n",
       "    </tr>\n",
       "  </thead>\n",
       "  <tbody>\n",
       "    <tr>\n",
       "      <th>10th</th>\n",
       "      <td>487.0</td>\n",
       "      <td>1.453183</td>\n",
       "      <td>0.928108</td>\n",
       "      <td>0.0</td>\n",
       "      <td>0.8</td>\n",
       "      <td>1.4</td>\n",
       "      <td>2.1</td>\n",
       "      <td>4.0</td>\n",
       "    </tr>\n",
       "    <tr>\n",
       "      <th>11th</th>\n",
       "      <td>479.0</td>\n",
       "      <td>1.512317</td>\n",
       "      <td>0.887474</td>\n",
       "      <td>0.0</td>\n",
       "      <td>0.8</td>\n",
       "      <td>1.5</td>\n",
       "      <td>2.1</td>\n",
       "      <td>4.0</td>\n",
       "    </tr>\n",
       "    <tr>\n",
       "      <th>12th</th>\n",
       "      <td>529.0</td>\n",
       "      <td>1.520227</td>\n",
       "      <td>0.971520</td>\n",
       "      <td>0.0</td>\n",
       "      <td>0.8</td>\n",
       "      <td>1.5</td>\n",
       "      <td>2.2</td>\n",
       "      <td>4.0</td>\n",
       "    </tr>\n",
       "    <tr>\n",
       "      <th>7th</th>\n",
       "      <td>497.0</td>\n",
       "      <td>1.554125</td>\n",
       "      <td>0.881295</td>\n",
       "      <td>0.0</td>\n",
       "      <td>0.9</td>\n",
       "      <td>1.6</td>\n",
       "      <td>2.2</td>\n",
       "      <td>4.0</td>\n",
       "    </tr>\n",
       "    <tr>\n",
       "      <th>8th</th>\n",
       "      <td>482.0</td>\n",
       "      <td>1.538589</td>\n",
       "      <td>0.982320</td>\n",
       "      <td>0.0</td>\n",
       "      <td>0.8</td>\n",
       "      <td>1.5</td>\n",
       "      <td>2.2</td>\n",
       "      <td>4.0</td>\n",
       "    </tr>\n",
       "    <tr>\n",
       "      <th>9th</th>\n",
       "      <td>526.0</td>\n",
       "      <td>1.569392</td>\n",
       "      <td>0.938019</td>\n",
       "      <td>0.0</td>\n",
       "      <td>0.9</td>\n",
       "      <td>1.5</td>\n",
       "      <td>2.2</td>\n",
       "      <td>4.0</td>\n",
       "    </tr>\n",
       "  </tbody>\n",
       "</table>\n",
       "</div>"
      ],
      "text/plain": [
       "             Time_on_Gaming                                             \n",
       "                      count      mean       std  min  25%  50%  75%  max\n",
       "School_Grade                                                            \n",
       "10th                  487.0  1.453183  0.928108  0.0  0.8  1.4  2.1  4.0\n",
       "11th                  479.0  1.512317  0.887474  0.0  0.8  1.5  2.1  4.0\n",
       "12th                  529.0  1.520227  0.971520  0.0  0.8  1.5  2.2  4.0\n",
       "7th                   497.0  1.554125  0.881295  0.0  0.9  1.6  2.2  4.0\n",
       "8th                   482.0  1.538589  0.982320  0.0  0.8  1.5  2.2  4.0\n",
       "9th                   526.0  1.569392  0.938019  0.0  0.9  1.5  2.2  4.0"
      ]
     },
     "execution_count": 26,
     "metadata": {},
     "output_type": "execute_result"
    }
   ],
   "source": [
    "df.groupby('School_Grade').describe()"
   ]
  },
  {
   "cell_type": "code",
   "execution_count": 27,
   "id": "6295b5ab",
   "metadata": {},
   "outputs": [
    {
     "data": {
      "text/html": [
       "<div>\n",
       "<style scoped>\n",
       "    .dataframe tbody tr th:only-of-type {\n",
       "        vertical-align: middle;\n",
       "    }\n",
       "\n",
       "    .dataframe tbody tr th {\n",
       "        vertical-align: top;\n",
       "    }\n",
       "\n",
       "    .dataframe thead th {\n",
       "        text-align: right;\n",
       "    }\n",
       "</style>\n",
       "<table border=\"1\" class=\"dataframe\">\n",
       "  <thead>\n",
       "    <tr style=\"text-align: right;\">\n",
       "      <th></th>\n",
       "      <th>Time_on_Gaming</th>\n",
       "    </tr>\n",
       "    <tr>\n",
       "      <th>School_Grade</th>\n",
       "      <th></th>\n",
       "    </tr>\n",
       "  </thead>\n",
       "  <tbody>\n",
       "    <tr>\n",
       "      <th>10th</th>\n",
       "      <td>0.861384</td>\n",
       "    </tr>\n",
       "    <tr>\n",
       "      <th>11th</th>\n",
       "      <td>0.787609</td>\n",
       "    </tr>\n",
       "    <tr>\n",
       "      <th>12th</th>\n",
       "      <td>0.943851</td>\n",
       "    </tr>\n",
       "    <tr>\n",
       "      <th>7th</th>\n",
       "      <td>0.776682</td>\n",
       "    </tr>\n",
       "    <tr>\n",
       "      <th>8th</th>\n",
       "      <td>0.964953</td>\n",
       "    </tr>\n",
       "    <tr>\n",
       "      <th>9th</th>\n",
       "      <td>0.879880</td>\n",
       "    </tr>\n",
       "  </tbody>\n",
       "</table>\n",
       "</div>"
      ],
      "text/plain": [
       "              Time_on_Gaming\n",
       "School_Grade                \n",
       "10th                0.861384\n",
       "11th                0.787609\n",
       "12th                0.943851\n",
       "7th                 0.776682\n",
       "8th                 0.964953\n",
       "9th                 0.879880"
      ]
     },
     "execution_count": 27,
     "metadata": {},
     "output_type": "execute_result"
    }
   ],
   "source": [
    "df.groupby('School_Grade').var()"
   ]
  },
  {
   "cell_type": "code",
   "execution_count": 32,
   "id": "d05ea7c6",
   "metadata": {},
   "outputs": [
    {
     "data": {
      "image/png": "[encoded data removed]",
      "text/plain": [
       "<Figure size 1000x600 with 1 Axes>"
      ]
     },
     "metadata": {},
     "output_type": "display_data"
    }
   ],
   "source": [
    "import numpy as np\n",
    "import matplotlib.pyplot as plt\n",
    "\n",
    "group_col = 'School_Grade'\n",
    "value_col = 'Time_on_Gaming'\n",
    "\n",
    "data = df[[group_col, value_col]].dropna()\n",
    "\n",
    "_, bin_edges = np.histogram(data[value_col], bins=20)\n",
    "\n",
    "plt.figure(figsize=(10, 6))\n",
    "\n",
    "for name, sub in data.groupby(group_col):\n",
    "    plt.hist(\n",
    "        sub[value_col],\n",
    "        bins=bin_edges,\n",
    "        histtype='step',   \n",
    "        linewidth=2,\n",
    "        alpha=0.9,\n",
    "        label=str(name),\n",
    "        density=False    \n",
    "    )\n",
    "\n",
    "plt.legend(title=group_col)\n",
    "plt.xlabel(value_col)\n",
    "plt.ylabel('Count')  # или 'Density' если density=True\n",
    "plt.title(f'Гистограммы {value_col} по группам {group_col}')\n",
    "plt.tight_layout()\n",
    "plt.show()\n"
   ]
  }
 ],
 "metadata": {
  "kernelspec": {
   "display_name": ".venv",
   "language": "python",
   "name": "python3"
  },
  "language_info": {
   "codemirror_mode": {
    "name": "ipython",
    "version": 3
   },
   "file_extension": ".py",
   "mimetype": "text/x-python",
   "name": "python",
   "nbconvert_exporter": "python",
   "pygments_lexer": "ipython3",
   "version": "3.11.4"
  }
 },
 "nbformat": 4,
 "nbformat_minor": 5
}
